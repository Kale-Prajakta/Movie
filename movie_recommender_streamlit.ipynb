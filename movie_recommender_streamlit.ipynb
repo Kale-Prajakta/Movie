{
 "cells": [
  {
   "cell_type": "markdown",
   "id": "8dad5136",
   "metadata": {},
   "source": [
    "\n",
    "# Movie Recommendation System\n",
    "\n",
    "This notebook builds a content-based movie recommender using the MovieLens dataset. It uses:\n",
    "- TF-IDF for genres\n",
    "- Average ratings\n",
    "- Cosine similarity\n",
    "- PCA and KMeans for clustering\n",
    "- A Streamlit interface for recommendations\n",
    "\n",
    "---\n",
    "\n",
    "## 1. Import Libraries and Load Data\n"
   ]
  },
  {
   "cell_type": "code",
   "execution_count": null,
   "id": "5424975a",
   "metadata": {},
   "outputs": [],
   "source": [
    "\n",
    "import pandas as pd\n",
    "import numpy as np\n",
    "import streamlit as st\n",
    "from sklearn.feature_extraction.text import TfidfVectorizer\n",
    "from sklearn.metrics.pairwise import cosine_similarity\n",
    "from sklearn.decomposition import PCA\n",
    "from sklearn.cluster import KMeans\n",
    "from sklearn.preprocessing import StandardScaler\n",
    "import seaborn as sns\n",
    "import matplotlib.pyplot as plt\n",
    "\n",
    "# Load data\n",
    "movies = pd.read_csv('movies.csv')\n",
    "ratings = pd.read_csv('ratings.csv')\n",
    "\n",
    "st.title(\"🎬 Movie Recommender System\")\n",
    "\n",
    "st.write(\"Dataset loaded successfully!\")\n"
   ]
  },
  {
   "cell_type": "markdown",
   "id": "f7838165",
   "metadata": {},
   "source": [
    "## 2. EDA: Exploring Movie Genres and Ratings"
   ]
  },
  {
   "cell_type": "code",
   "execution_count": null,
   "id": "2de8cd92",
   "metadata": {},
   "outputs": [],
   "source": [
    "\n",
    "# Preprocess genres\n",
    "movies['genres'] = movies['genres'].str.replace('|', ' ')\n",
    "movies['num_genres'] = movies['genres'].apply(lambda x: len(x.split()) if pd.notna(x) else 0)\n",
    "\n",
    "# Display genre distribution plot\n",
    "st.subheader(\"Distribution of Number of Genres\")\n",
    "fig, ax = plt.subplots()\n",
    "sns.histplot(movies['num_genres'], bins=20, ax=ax)\n",
    "st.pyplot(fig)\n",
    "\n",
    "# Top genres\n",
    "from collections import Counter\n",
    "all_genres = ' '.join(movies['genres'].dropna()).split()\n",
    "genre_counts = Counter(all_genres)\n",
    "genre_df = pd.DataFrame(genre_counts.items(), columns=['Genre', 'Count']).sort_values('Count', ascending=False)\n",
    "\n",
    "st.subheader(\"Top Genres\")\n",
    "st.dataframe(genre_df.head(10))\n"
   ]
  },
  {
   "cell_type": "markdown",
   "id": "c747bc4e",
   "metadata": {},
   "source": [
    "## 3. Feature Extraction from Genres + Ratings"
   ]
  },
  {
   "cell_type": "code",
   "execution_count": null,
   "id": "b99cfe08",
   "metadata": {},
   "outputs": [],
   "source": [
    "\n",
    "# TF-IDF on genres\n",
    "tfidf = TfidfVectorizer()\n",
    "tfidf_matrix = tfidf.fit_transform(movies['genres'].fillna(''))\n",
    "\n",
    "# Average rating\n",
    "avg_ratings = ratings.groupby('movieId')['rating'].mean().reset_index()\n",
    "avg_ratings.columns = ['movieId', 'avg_rating']\n",
    "movies = movies.merge(avg_ratings, on='movieId', how='left')\n",
    "\n",
    "# Combine features\n",
    "features = np.hstack((tfidf_matrix.toarray(), movies[['avg_rating']].fillna(0).values))\n",
    "\n",
    "# Scale\n",
    "scaler = StandardScaler()\n",
    "features_scaled = scaler.fit_transform(features)\n"
   ]
  },
  {
   "cell_type": "markdown",
   "id": "a8555f76",
   "metadata": {},
   "source": [
    "## 4. Clustering Movies using KMeans + PCA"
   ]
  },
  {
   "cell_type": "code",
   "execution_count": null,
   "id": "adca8c18",
   "metadata": {},
   "outputs": [],
   "source": [
    "\n",
    "# PCA\n",
    "pca = PCA(n_components=2)\n",
    "pca_features = pca.fit_transform(features_scaled)\n",
    "\n",
    "# KMeans\n",
    "kmeans = KMeans(n_clusters=10, random_state=42)\n",
    "clusters = kmeans.fit_predict(features_scaled)\n",
    "\n",
    "movies['Cluster'] = clusters\n",
    "\n",
    "# Plot\n",
    "st.subheader(\"PCA Clustering Plot\")\n",
    "fig2, ax2 = plt.subplots()\n",
    "scatter = ax2.scatter(pca_features[:, 0], pca_features[:, 1], c=clusters, cmap='tab10')\n",
    "plt.colorbar(scatter)\n",
    "st.pyplot(fig2)\n"
   ]
  },
  {
   "cell_type": "markdown",
   "id": "6eb4d186",
   "metadata": {},
   "source": [
    "## 5. Streamlit Recommender Interface"
   ]
  },
  {
   "cell_type": "code",
   "execution_count": null,
   "id": "460a2119",
   "metadata": {},
   "outputs": [],
   "source": [
    "\n",
    "# Similarity matrix\n",
    "cos_sim = cosine_similarity(tfidf_matrix)\n",
    "\n",
    "# Build simple recommender\n",
    "movie_titles = movies['title'].tolist()\n",
    "selected_movie = st.selectbox(\"Select a movie to get recommendations:\", movie_titles)\n",
    "\n",
    "if selected_movie:\n",
    "    index = movies[movies['title'] == selected_movie].index[0]\n",
    "    similarity_scores = list(enumerate(cos_sim[index]))\n",
    "    similarity_scores = sorted(similarity_scores, key=lambda x: x[1], reverse=True)\n",
    "    top_movies = [movie_titles[i[0]] for i in similarity_scores[1:6]]\n",
    "\n",
    "    st.write(\"Top 5 Recommended Movies:\")\n",
    "    for i, title in enumerate(top_movies, 1):\n",
    "        st.write(f\"{i}. {title}\")\n"
   ]
  }
 ],
 "metadata": {},
 "nbformat": 4,
 "nbformat_minor": 5
}
